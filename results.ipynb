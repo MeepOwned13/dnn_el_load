{
 "cells": [
  {
   "cell_type": "code",
   "execution_count": null,
   "id": "initial_id",
   "metadata": {
    "collapsed": true
   },
   "outputs": [],
   "source": [
    "import pandas as pd\n",
    "import numpy as np\n",
    "import matplotlib.pyplot as plt"
   ]
  },
  {
   "cell_type": "code",
   "execution_count": null,
   "outputs": [],
   "source": [
    "def plot_per_model(data: pd.DataFrame, axs=None, title=None):\n",
    "    \"\"\"Make sure to call plt.show() after figure is done.\"\"\"\n",
    "    if axs is None:\n",
    "        plt.title(title)\n",
    "        plt.xlabel('Hour')\n",
    "        plt.ylabel('RMSE')\n",
    "        plt.xticks([6, 12, 24, 48])\n",
    "        plt.grid()\n",
    "        axs = plt\n",
    "    else:\n",
    "        axs.set_title(title)\n",
    "        axs.set_xlabel('Hour')\n",
    "        axs.set_ylabel('RMSE')\n",
    "        axs.set_xticks([6, 12, 24, 48])\n",
    "        axs.grid()\n",
    "        \n",
    "    model_names = {\n",
    "        'reg_s2s': 'Regular Seq2Seq',\n",
    "        'att_s2s': 'Attention Seq2Seq',\n",
    "        'pos_att_s2s': 'Concatenated Positional Encoding & Attention',\n",
    "        'add_pos_att_s2s': 'Additive Positional Encoding & Attention',\n",
    "    }\n",
    "    \n",
    "    for m in data['Model'].unique():\n",
    "        per_model = data[data['Model'] == m].drop('Model', axis=1).to_numpy()\n",
    "        x, y = per_model[:, 0], per_model[:, 1]\n",
    "        axs.plot(x, y, marker='o', linewidth=1, linestyle='dashed', label=model_names.get(m, m))\n",
    "        \n",
    "        axs.legend()\n",
    "    \n",
    "def plot_for_len(data: pd.DataFrame, seq_len=24):\n",
    "    gp = data.groupby(['Model', 'Sequence length', 'Prediction length'], as_index=False)[['Model', 'RMSE']]\n",
    "\n",
    "    gmean = gp.mean(['RMSE'])\n",
    "    gmin = gp.min(['RMSE'])\n",
    "    \n",
    "    gmean = gmean[gmean['Sequence length'] == seq_len].drop('Sequence length', axis=1)\n",
    "    gmin = gmin[gmin['Sequence length'] == seq_len].drop('Sequence length', axis=1)\n",
    "    \n",
    "    fig, axs = plt.subplots(1, 2, figsize=(16, 8))\n",
    "    \n",
    "    plot_per_model(gmean, axs[0], f'AVG for {seq_len} sequence')\n",
    "    plot_per_model(gmin, axs[1], f'MIN for {seq_len} sequence')\n",
    "    plt.show()\n",
    "    \n",
    "df = pd.read_csv('final_eval_results/results.csv')\n",
    "\n",
    "plot_for_len(df, 24)\n",
    "plot_for_len(df, 48)"
   ],
   "metadata": {
    "collapsed": false
   },
   "id": "26ca54456c88aed"
  }
 ],
 "metadata": {
  "kernelspec": {
   "display_name": "Python 3",
   "language": "python",
   "name": "python3"
  },
  "language_info": {
   "codemirror_mode": {
    "name": "ipython",
    "version": 2
   },
   "file_extension": ".py",
   "mimetype": "text/x-python",
   "name": "python",
   "nbconvert_exporter": "python",
   "pygments_lexer": "ipython2",
   "version": "2.7.6"
  }
 },
 "nbformat": 4,
 "nbformat_minor": 5
}
