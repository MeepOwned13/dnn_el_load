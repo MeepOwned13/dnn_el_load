{
 "cells": [
  {
   "cell_type": "markdown",
   "source": [
    "### Imports"
   ],
   "metadata": {
    "collapsed": false
   },
   "id": "5e8f02c4531e07f"
  },
  {
   "cell_type": "code",
   "execution_count": null,
   "id": "initial_id",
   "metadata": {
    "collapsed": true
   },
   "outputs": [],
   "source": [
    "import random\n",
    "import numpy as np\n",
    "import pandas as pd\n",
    "import matplotlib.pyplot as plt\n",
    "import torch\n",
    "from torch import nn\n",
    "import trainer_lib as tl\n",
    "import torch_model_definitions as tmd"
   ]
  },
  {
   "cell_type": "markdown",
   "source": [
    "### Load data"
   ],
   "metadata": {
    "collapsed": false
   },
   "id": "5c62b93b0a0d0b14"
  },
  {
   "cell_type": "code",
   "execution_count": null,
   "outputs": [],
   "source": [
    "df: pd.DataFrame = tl.load_country_wide_dataset('../data/country_data.csv', until='2019-12-31 23:00:00')\n",
    "# I'll limit the amount of data to make it run faster\n",
    "# Models generally performed the best on this part of the dataset in my TDK\n",
    "\n",
    "X = df.to_numpy(dtype=np.float32)\n",
    "y = df['el_load'].to_numpy(dtype=np.float32)"
   ],
   "metadata": {
    "collapsed": false
   },
   "id": "cc19b65985e4e476"
  },
  {
   "cell_type": "markdown",
   "source": [
    "### Grid search"
   ],
   "metadata": {
    "collapsed": false
   },
   "id": "7697c4ccd76de55a"
  },
  {
   "cell_type": "code",
   "execution_count": null,
   "outputs": [],
   "source": [
    "# this is the setup that performed the best in my TDK with 24 seq_len and 3 pred_len, I won't grid search it further, it seems to perfrom well\n",
    "grid = tl.Grid({\n",
    "    'epochs': [1000],  # we use early stopping, so this is just a high number\n",
    "    'lr': [0.001],\n",
    "    'model': [tmd.Seq2seq],\n",
    "    'embedding_size': [10],\n",
    "    'num_layers': [1],\n",
    "    'bidirectional': [True],\n",
    "    'dropout': [0.5],\n",
    "    'out_noise': [0.05],\n",
    "    'batch_size': [2048],\n",
    "    'pred_len': [12],\n",
    "    'es_p': [20]\n",
    "}) # n_splits defaulted to 2, val_mod to 8\n",
    "\n",
    "wrapper = tl.S2STSWRAPPER(tmd.Seq2seq(), seq_len=24, pred_len=12, teacher_forcing_decay=0.01)\n",
    "b_p, b_s = wrapper.grid_search(X, y, grid, verbose=4)\n",
    "print(f\"\\nBest params: {b_p}\\nBest score: {b_s}\")"
   ],
   "metadata": {
    "collapsed": false
   },
   "id": "6eab3e2a01ebe19b"
  },
  {
   "cell_type": "code",
   "execution_count": null,
   "outputs": [],
   "source": [
    "grid = tl.Grid({\n",
    "    'epochs': [1000],  # we use early stopping, so this is just a high number\n",
    "    'lr': [0.001],\n",
    "    'model': [tmd.AttentionSeq2seq],\n",
    "    'embedding_size': [6, 8, 10],\n",
    "    'bidirectional': [True],\n",
    "    'dropout': [0.0],  # set to 0, the model wasn't showing signs of overfitting\n",
    "    'out_noise': [0.00],  # set to 0, the model wasn't showing signs of overfitting\n",
    "    'batch_size': [1024],\n",
    "    'pred_len': [12],\n",
    "    'es_p': [20]\n",
    "}) # n_splits defaulted to 2, val_mod to 8\n",
    "\n",
    "wrapper = tl.S2STSWRAPPER(tmd.AttentionSeq2seq(), seq_len=24, pred_len=12, teacher_forcing_decay=0.01)\n",
    "b_p, b_s = wrapper.grid_search(X, y, grid, verbose=4)\n",
    "print(f\"\\nBest params: {b_p}\\nBest score: {b_s}\")"
   ],
   "metadata": {
    "collapsed": false
   },
   "id": "eca10e09ccebbe3f"
  }
 ],
 "metadata": {
  "kernelspec": {
   "display_name": "Python 3",
   "language": "python",
   "name": "python3"
  },
  "language_info": {
   "codemirror_mode": {
    "name": "ipython",
    "version": 2
   },
   "file_extension": ".py",
   "mimetype": "text/x-python",
   "name": "python",
   "nbconvert_exporter": "python",
   "pygments_lexer": "ipython2",
   "version": "2.7.6"
  }
 },
 "nbformat": 4,
 "nbformat_minor": 5
}
